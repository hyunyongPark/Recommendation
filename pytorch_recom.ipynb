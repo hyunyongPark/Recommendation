{
  "nbformat": 4,
  "nbformat_minor": 0,
  "metadata": {
    "colab": {
      "name": "pytorch_recom.ipynb",
      "provenance": [],
      "collapsed_sections": [],
      "authorship_tag": "ABX9TyMOqDYKE7FTWchQBOz/w6qP",
      "include_colab_link": true
    },
    "kernelspec": {
      "name": "python3",
      "display_name": "Python 3"
    },
    "accelerator": "GPU"
  },
  "cells": [
    {
      "cell_type": "markdown",
      "metadata": {
        "id": "view-in-github",
        "colab_type": "text"
      },
      "source": [
        "<a href=\"https://colab.research.google.com/github/hyunyongPark/Recommendation/blob/master/pytorch_recom.ipynb\" target=\"_parent\"><img src=\"https://colab.research.google.com/assets/colab-badge.svg\" alt=\"Open In Colab\"/></a>"
      ]
    },
    {
      "cell_type": "markdown",
      "metadata": {
        "id": "2lDmVtLWxQ_o",
        "colab_type": "text"
      },
      "source": [
        "**users**  : UserID::Gender::Age::Occupation::Zip-code\n",
        "\n",
        "**movies**  :  MovieID::Title::Genres\n",
        "\n",
        "**ratings** : UserID::MovieID::Rating::Timestamp\n",
        "\n"
      ]
    },
    {
      "cell_type": "code",
      "metadata": {
        "id": "3vFGRR6FmGG7",
        "colab_type": "code",
        "colab": {
          "base_uri": "https://localhost:8080/",
          "height": 127
        },
        "outputId": "d896f116-ee6d-4ca3-d749-ae9f559d6aed"
      },
      "source": [
        "from google.colab import drive\n",
        "drive.mount('/content/gdrive/')"
      ],
      "execution_count": 1,
      "outputs": [
        {
          "output_type": "stream",
          "text": [
            "Go to this URL in a browser: https://accounts.google.com/o/oauth2/auth?client_id=947318989803-6bn6qk8qdgf4n4g3pfee6491hc0brc4i.apps.googleusercontent.com&redirect_uri=urn%3aietf%3awg%3aoauth%3a2.0%3aoob&scope=email%20https%3a%2f%2fwww.googleapis.com%2fauth%2fdocs.test%20https%3a%2f%2fwww.googleapis.com%2fauth%2fdrive%20https%3a%2f%2fwww.googleapis.com%2fauth%2fdrive.photos.readonly%20https%3a%2f%2fwww.googleapis.com%2fauth%2fpeopleapi.readonly&response_type=code\n",
            "\n",
            "Enter your authorization code:\n",
            "··········\n",
            "Mounted at /content/gdrive/\n"
          ],
          "name": "stdout"
        }
      ]
    },
    {
      "cell_type": "code",
      "metadata": {
        "id": "OrcrMOE2rj7H",
        "colab_type": "code",
        "colab": {
          "base_uri": "https://localhost:8080/",
          "height": 53
        },
        "outputId": "c53f8e0b-0d46-429d-fe7d-7f6df68712b4"
      },
      "source": [
        "# Importing the libraries\n",
        "import numpy as np\n",
        "import pandas as pd\n",
        "import torch\n",
        "import torch.nn as nn\n",
        "import torch.optim as optim\n",
        "import torch.utils.data\n",
        "from torch.autograd import Variable\n",
        "# Importing the dataset\n",
        "print('Importing Dataset =====>')\n",
        "movies = pd.read_csv('/content/gdrive/My Drive/recommend_practice/ml-1m/movies.dat', sep = '::', header = None, engine = 'python', encoding = 'latin-1')\n",
        "users = pd.read_csv('/content/gdrive/My Drive/recommend_practice/ml-1m/users.dat', sep = '::', header = None, engine = 'python', encoding = 'latin-1')\n",
        "ratings = pd.read_csv('/content/gdrive/My Drive/recommend_practice/ml-1m/ratings.dat', sep = '::', header = None, engine = 'python', encoding = 'latin-1')\n",
        "# Preparing the training set and the test set\n",
        "print('Reading testing and training datasets =====>')\n",
        "# Training and test set for 100k users\n",
        "training_set_df = pd.read_csv('/content/gdrive/My Drive/recommend_practice/ml-100k/u1.base', delimiter = '\\t', header=None)\n",
        "test_set_df = pd.read_csv('/content/gdrive/My Drive/recommend_practice/ml-100k/u1.test', delimiter = '\\t', header=None)"
      ],
      "execution_count": 3,
      "outputs": [
        {
          "output_type": "stream",
          "text": [
            "Importing Dataset =====>\n",
            "Reading testing and training datasets =====>\n"
          ],
          "name": "stdout"
        }
      ]
    },
    {
      "cell_type": "code",
      "metadata": {
        "id": "GpU5nVoLxwqX",
        "colab_type": "code",
        "colab": {
          "base_uri": "https://localhost:8080/",
          "height": 419
        },
        "outputId": "a6dbb814-6d82-4aa4-ac8d-213767663a80"
      },
      "source": [
        "ratings"
      ],
      "execution_count": 30,
      "outputs": [
        {
          "output_type": "execute_result",
          "data": {
            "text/html": [
              "<div>\n",
              "<style scoped>\n",
              "    .dataframe tbody tr th:only-of-type {\n",
              "        vertical-align: middle;\n",
              "    }\n",
              "\n",
              "    .dataframe tbody tr th {\n",
              "        vertical-align: top;\n",
              "    }\n",
              "\n",
              "    .dataframe thead th {\n",
              "        text-align: right;\n",
              "    }\n",
              "</style>\n",
              "<table border=\"1\" class=\"dataframe\">\n",
              "  <thead>\n",
              "    <tr style=\"text-align: right;\">\n",
              "      <th></th>\n",
              "      <th>0</th>\n",
              "      <th>1</th>\n",
              "      <th>2</th>\n",
              "      <th>3</th>\n",
              "    </tr>\n",
              "  </thead>\n",
              "  <tbody>\n",
              "    <tr>\n",
              "      <th>0</th>\n",
              "      <td>1</td>\n",
              "      <td>1193</td>\n",
              "      <td>5</td>\n",
              "      <td>978300760</td>\n",
              "    </tr>\n",
              "    <tr>\n",
              "      <th>1</th>\n",
              "      <td>1</td>\n",
              "      <td>661</td>\n",
              "      <td>3</td>\n",
              "      <td>978302109</td>\n",
              "    </tr>\n",
              "    <tr>\n",
              "      <th>2</th>\n",
              "      <td>1</td>\n",
              "      <td>914</td>\n",
              "      <td>3</td>\n",
              "      <td>978301968</td>\n",
              "    </tr>\n",
              "    <tr>\n",
              "      <th>3</th>\n",
              "      <td>1</td>\n",
              "      <td>3408</td>\n",
              "      <td>4</td>\n",
              "      <td>978300275</td>\n",
              "    </tr>\n",
              "    <tr>\n",
              "      <th>4</th>\n",
              "      <td>1</td>\n",
              "      <td>2355</td>\n",
              "      <td>5</td>\n",
              "      <td>978824291</td>\n",
              "    </tr>\n",
              "    <tr>\n",
              "      <th>...</th>\n",
              "      <td>...</td>\n",
              "      <td>...</td>\n",
              "      <td>...</td>\n",
              "      <td>...</td>\n",
              "    </tr>\n",
              "    <tr>\n",
              "      <th>1000204</th>\n",
              "      <td>6040</td>\n",
              "      <td>1091</td>\n",
              "      <td>1</td>\n",
              "      <td>956716541</td>\n",
              "    </tr>\n",
              "    <tr>\n",
              "      <th>1000205</th>\n",
              "      <td>6040</td>\n",
              "      <td>1094</td>\n",
              "      <td>5</td>\n",
              "      <td>956704887</td>\n",
              "    </tr>\n",
              "    <tr>\n",
              "      <th>1000206</th>\n",
              "      <td>6040</td>\n",
              "      <td>562</td>\n",
              "      <td>5</td>\n",
              "      <td>956704746</td>\n",
              "    </tr>\n",
              "    <tr>\n",
              "      <th>1000207</th>\n",
              "      <td>6040</td>\n",
              "      <td>1096</td>\n",
              "      <td>4</td>\n",
              "      <td>956715648</td>\n",
              "    </tr>\n",
              "    <tr>\n",
              "      <th>1000208</th>\n",
              "      <td>6040</td>\n",
              "      <td>1097</td>\n",
              "      <td>4</td>\n",
              "      <td>956715569</td>\n",
              "    </tr>\n",
              "  </tbody>\n",
              "</table>\n",
              "<p>1000209 rows × 4 columns</p>\n",
              "</div>"
            ],
            "text/plain": [
              "            0     1  2          3\n",
              "0           1  1193  5  978300760\n",
              "1           1   661  3  978302109\n",
              "2           1   914  3  978301968\n",
              "3           1  3408  4  978300275\n",
              "4           1  2355  5  978824291\n",
              "...       ...   ... ..        ...\n",
              "1000204  6040  1091  1  956716541\n",
              "1000205  6040  1094  5  956704887\n",
              "1000206  6040   562  5  956704746\n",
              "1000207  6040  1096  4  956715648\n",
              "1000208  6040  1097  4  956715569\n",
              "\n",
              "[1000209 rows x 4 columns]"
            ]
          },
          "metadata": {
            "tags": []
          },
          "execution_count": 30
        }
      ]
    },
    {
      "cell_type": "code",
      "metadata": {
        "id": "K--NH48dzqkj",
        "colab_type": "code",
        "colab": {
          "base_uri": "https://localhost:8080/",
          "height": 419
        },
        "outputId": "73255afb-e460-448f-d681-a1abc13afc18"
      },
      "source": [
        "users"
      ],
      "execution_count": 32,
      "outputs": [
        {
          "output_type": "execute_result",
          "data": {
            "text/html": [
              "<div>\n",
              "<style scoped>\n",
              "    .dataframe tbody tr th:only-of-type {\n",
              "        vertical-align: middle;\n",
              "    }\n",
              "\n",
              "    .dataframe tbody tr th {\n",
              "        vertical-align: top;\n",
              "    }\n",
              "\n",
              "    .dataframe thead th {\n",
              "        text-align: right;\n",
              "    }\n",
              "</style>\n",
              "<table border=\"1\" class=\"dataframe\">\n",
              "  <thead>\n",
              "    <tr style=\"text-align: right;\">\n",
              "      <th></th>\n",
              "      <th>0</th>\n",
              "      <th>1</th>\n",
              "      <th>2</th>\n",
              "      <th>3</th>\n",
              "      <th>4</th>\n",
              "      <th>female_user</th>\n",
              "      <th>male_user</th>\n",
              "    </tr>\n",
              "  </thead>\n",
              "  <tbody>\n",
              "    <tr>\n",
              "      <th>0</th>\n",
              "      <td>1</td>\n",
              "      <td>F</td>\n",
              "      <td>1</td>\n",
              "      <td>10</td>\n",
              "      <td>48067</td>\n",
              "      <td>1</td>\n",
              "      <td>0</td>\n",
              "    </tr>\n",
              "    <tr>\n",
              "      <th>1</th>\n",
              "      <td>2</td>\n",
              "      <td>M</td>\n",
              "      <td>56</td>\n",
              "      <td>16</td>\n",
              "      <td>70072</td>\n",
              "      <td>0</td>\n",
              "      <td>1</td>\n",
              "    </tr>\n",
              "    <tr>\n",
              "      <th>2</th>\n",
              "      <td>3</td>\n",
              "      <td>M</td>\n",
              "      <td>25</td>\n",
              "      <td>15</td>\n",
              "      <td>55117</td>\n",
              "      <td>0</td>\n",
              "      <td>1</td>\n",
              "    </tr>\n",
              "    <tr>\n",
              "      <th>3</th>\n",
              "      <td>4</td>\n",
              "      <td>M</td>\n",
              "      <td>45</td>\n",
              "      <td>7</td>\n",
              "      <td>02460</td>\n",
              "      <td>0</td>\n",
              "      <td>1</td>\n",
              "    </tr>\n",
              "    <tr>\n",
              "      <th>4</th>\n",
              "      <td>5</td>\n",
              "      <td>M</td>\n",
              "      <td>25</td>\n",
              "      <td>20</td>\n",
              "      <td>55455</td>\n",
              "      <td>0</td>\n",
              "      <td>1</td>\n",
              "    </tr>\n",
              "    <tr>\n",
              "      <th>...</th>\n",
              "      <td>...</td>\n",
              "      <td>...</td>\n",
              "      <td>...</td>\n",
              "      <td>...</td>\n",
              "      <td>...</td>\n",
              "      <td>...</td>\n",
              "      <td>...</td>\n",
              "    </tr>\n",
              "    <tr>\n",
              "      <th>6035</th>\n",
              "      <td>6036</td>\n",
              "      <td>F</td>\n",
              "      <td>25</td>\n",
              "      <td>15</td>\n",
              "      <td>32603</td>\n",
              "      <td>1</td>\n",
              "      <td>0</td>\n",
              "    </tr>\n",
              "    <tr>\n",
              "      <th>6036</th>\n",
              "      <td>6037</td>\n",
              "      <td>F</td>\n",
              "      <td>45</td>\n",
              "      <td>1</td>\n",
              "      <td>76006</td>\n",
              "      <td>1</td>\n",
              "      <td>0</td>\n",
              "    </tr>\n",
              "    <tr>\n",
              "      <th>6037</th>\n",
              "      <td>6038</td>\n",
              "      <td>F</td>\n",
              "      <td>56</td>\n",
              "      <td>1</td>\n",
              "      <td>14706</td>\n",
              "      <td>1</td>\n",
              "      <td>0</td>\n",
              "    </tr>\n",
              "    <tr>\n",
              "      <th>6038</th>\n",
              "      <td>6039</td>\n",
              "      <td>F</td>\n",
              "      <td>45</td>\n",
              "      <td>0</td>\n",
              "      <td>01060</td>\n",
              "      <td>1</td>\n",
              "      <td>0</td>\n",
              "    </tr>\n",
              "    <tr>\n",
              "      <th>6039</th>\n",
              "      <td>6040</td>\n",
              "      <td>M</td>\n",
              "      <td>25</td>\n",
              "      <td>6</td>\n",
              "      <td>11106</td>\n",
              "      <td>0</td>\n",
              "      <td>1</td>\n",
              "    </tr>\n",
              "  </tbody>\n",
              "</table>\n",
              "<p>6040 rows × 7 columns</p>\n",
              "</div>"
            ],
            "text/plain": [
              "         0  1   2   3      4  female_user  male_user\n",
              "0        1  F   1  10  48067            1          0\n",
              "1        2  M  56  16  70072            0          1\n",
              "2        3  M  25  15  55117            0          1\n",
              "3        4  M  45   7  02460            0          1\n",
              "4        5  M  25  20  55455            0          1\n",
              "...    ... ..  ..  ..    ...          ...        ...\n",
              "6035  6036  F  25  15  32603            1          0\n",
              "6036  6037  F  45   1  76006            1          0\n",
              "6037  6038  F  56   1  14706            1          0\n",
              "6038  6039  F  45   0  01060            1          0\n",
              "6039  6040  M  25   6  11106            0          1\n",
              "\n",
              "[6040 rows x 7 columns]"
            ]
          },
          "metadata": {
            "tags": []
          },
          "execution_count": 32
        }
      ]
    },
    {
      "cell_type": "code",
      "metadata": {
        "id": "0MPaf5yxt21w",
        "colab_type": "code",
        "colab": {
          "base_uri": "https://localhost:8080/",
          "height": 419
        },
        "outputId": "95054551-41ee-4e0f-9e61-8ba12c18e8f7"
      },
      "source": [
        "training_set_df"
      ],
      "execution_count": 4,
      "outputs": [
        {
          "output_type": "execute_result",
          "data": {
            "text/html": [
              "<div>\n",
              "<style scoped>\n",
              "    .dataframe tbody tr th:only-of-type {\n",
              "        vertical-align: middle;\n",
              "    }\n",
              "\n",
              "    .dataframe tbody tr th {\n",
              "        vertical-align: top;\n",
              "    }\n",
              "\n",
              "    .dataframe thead th {\n",
              "        text-align: right;\n",
              "    }\n",
              "</style>\n",
              "<table border=\"1\" class=\"dataframe\">\n",
              "  <thead>\n",
              "    <tr style=\"text-align: right;\">\n",
              "      <th></th>\n",
              "      <th>0</th>\n",
              "      <th>1</th>\n",
              "      <th>2</th>\n",
              "      <th>3</th>\n",
              "    </tr>\n",
              "  </thead>\n",
              "  <tbody>\n",
              "    <tr>\n",
              "      <th>0</th>\n",
              "      <td>1</td>\n",
              "      <td>1</td>\n",
              "      <td>5</td>\n",
              "      <td>874965758</td>\n",
              "    </tr>\n",
              "    <tr>\n",
              "      <th>1</th>\n",
              "      <td>1</td>\n",
              "      <td>2</td>\n",
              "      <td>3</td>\n",
              "      <td>876893171</td>\n",
              "    </tr>\n",
              "    <tr>\n",
              "      <th>2</th>\n",
              "      <td>1</td>\n",
              "      <td>3</td>\n",
              "      <td>4</td>\n",
              "      <td>878542960</td>\n",
              "    </tr>\n",
              "    <tr>\n",
              "      <th>3</th>\n",
              "      <td>1</td>\n",
              "      <td>4</td>\n",
              "      <td>3</td>\n",
              "      <td>876893119</td>\n",
              "    </tr>\n",
              "    <tr>\n",
              "      <th>4</th>\n",
              "      <td>1</td>\n",
              "      <td>5</td>\n",
              "      <td>3</td>\n",
              "      <td>889751712</td>\n",
              "    </tr>\n",
              "    <tr>\n",
              "      <th>...</th>\n",
              "      <td>...</td>\n",
              "      <td>...</td>\n",
              "      <td>...</td>\n",
              "      <td>...</td>\n",
              "    </tr>\n",
              "    <tr>\n",
              "      <th>79995</th>\n",
              "      <td>943</td>\n",
              "      <td>1067</td>\n",
              "      <td>2</td>\n",
              "      <td>875501756</td>\n",
              "    </tr>\n",
              "    <tr>\n",
              "      <th>79996</th>\n",
              "      <td>943</td>\n",
              "      <td>1074</td>\n",
              "      <td>4</td>\n",
              "      <td>888640250</td>\n",
              "    </tr>\n",
              "    <tr>\n",
              "      <th>79997</th>\n",
              "      <td>943</td>\n",
              "      <td>1188</td>\n",
              "      <td>3</td>\n",
              "      <td>888640250</td>\n",
              "    </tr>\n",
              "    <tr>\n",
              "      <th>79998</th>\n",
              "      <td>943</td>\n",
              "      <td>1228</td>\n",
              "      <td>3</td>\n",
              "      <td>888640275</td>\n",
              "    </tr>\n",
              "    <tr>\n",
              "      <th>79999</th>\n",
              "      <td>943</td>\n",
              "      <td>1330</td>\n",
              "      <td>3</td>\n",
              "      <td>888692465</td>\n",
              "    </tr>\n",
              "  </tbody>\n",
              "</table>\n",
              "<p>80000 rows × 4 columns</p>\n",
              "</div>"
            ],
            "text/plain": [
              "         0     1  2          3\n",
              "0        1     1  5  874965758\n",
              "1        1     2  3  876893171\n",
              "2        1     3  4  878542960\n",
              "3        1     4  3  876893119\n",
              "4        1     5  3  889751712\n",
              "...    ...   ... ..        ...\n",
              "79995  943  1067  2  875501756\n",
              "79996  943  1074  4  888640250\n",
              "79997  943  1188  3  888640250\n",
              "79998  943  1228  3  888640275\n",
              "79999  943  1330  3  888692465\n",
              "\n",
              "[80000 rows x 4 columns]"
            ]
          },
          "metadata": {
            "tags": []
          },
          "execution_count": 4
        }
      ]
    },
    {
      "cell_type": "code",
      "metadata": {
        "id": "XAfwSGb8rqHM",
        "colab_type": "code",
        "colab": {}
      },
      "source": [
        "# Convert training set and test set in numpy arrays\n",
        "training_set_ar = np.array(training_set_df, dtype = 'int')\n",
        "test_set_ar = np.array(test_set_df, dtype = 'int')\n",
        "# Getting the number of users and movies\n",
        "nb_users = int(max(max(training_set_ar[:,0]), max(test_set_ar[:,0])))\n",
        "nb_movies = int(max(max(training_set_ar[:,1]), max(test_set_ar[:,1])))\n",
        "nb_userAttributes = 4"
      ],
      "execution_count": 5,
      "outputs": []
    },
    {
      "cell_type": "code",
      "metadata": {
        "id": "ImFmLjYYySjQ",
        "colab_type": "code",
        "colab": {
          "base_uri": "https://localhost:8080/",
          "height": 35
        },
        "outputId": "72a088c3-2b85-4df5-c08c-0f1b7dd8cffd"
      },
      "source": [
        "print(nb_users, '\\t' , nb_movies)"
      ],
      "execution_count": 6,
      "outputs": [
        {
          "output_type": "stream",
          "text": [
            "943 \t 1682\n"
          ],
          "name": "stdout"
        }
      ]
    },
    {
      "cell_type": "code",
      "metadata": {
        "id": "TT1P0FZGrtC8",
        "colab_type": "code",
        "colab": {}
      },
      "source": [
        "users['female_user'] = (users[1] == 'F').astype(int)\n",
        "users['male_user'] = (users[1] == 'M').astype(int)"
      ],
      "execution_count": 7,
      "outputs": []
    },
    {
      "cell_type": "code",
      "metadata": {
        "id": "RqvdqkusrukA",
        "colab_type": "code",
        "colab": {
          "base_uri": "https://localhost:8080/",
          "height": 71
        },
        "outputId": "54460295-f9fd-4c52-a49d-3aa2bf051d4d"
      },
      "source": [
        "# extract unique genre values\n",
        "print('Extracting unique genres =====>')\n",
        "genre = movies[2]\n",
        "unique_genre = genre.unique()\n",
        "genre_values = []\n",
        "for movie_genre in unique_genre:\n",
        "    mg = movie_genre.split(\"|\")\n",
        "    for g in mg:\n",
        "        if g not in genre_values:\n",
        "            genre_values.append(g)\n",
        "            \n",
        "genre_values = sorted(genre_values, key=str.lower)\n",
        "print(genre_values)\n",
        "print(len(genre_values))"
      ],
      "execution_count": 8,
      "outputs": [
        {
          "output_type": "stream",
          "text": [
            "Extracting unique genres =====>\n",
            "['Action', 'Adventure', 'Animation', \"Children's\", 'Comedy', 'Crime', 'Documentary', 'Drama', 'Fantasy', 'Film-Noir', 'Horror', 'Musical', 'Mystery', 'Romance', 'Sci-Fi', 'Thriller', 'War', 'Western']\n",
            "18\n"
          ],
          "name": "stdout"
        }
      ]
    },
    {
      "cell_type": "code",
      "metadata": {
        "id": "CdeEfTx0rwRE",
        "colab_type": "code",
        "colab": {
          "base_uri": "https://localhost:8080/",
          "height": 89
        },
        "outputId": "d0961de8-198e-4b93-eecf-9b784d00be1c"
      },
      "source": [
        "# get genre vector(원핫인코딩으로 이루어진 장르)\n",
        "def get_genre_vector(genre_row_val):\n",
        "    mg = genre_row_val.split(\"|\")\n",
        "    gen_vec = np.zeros(len(genre_values))\n",
        "    gen_index = 0\n",
        "    for g in genre_values:\n",
        "        if g in mg:\n",
        "            gen_vec[gen_index] = 1\n",
        "        gen_index += 1\n",
        "    return gen_vec\n",
        "# unit tests for above function\n",
        "print(get_genre_vector(\"Action|Adventure|Romance\"))\n",
        "print(get_genre_vector(\"Animation|Children's|Comedy\"))\n",
        "print(get_genre_vector(\"Thriller\"))\n",
        "print(get_genre_vector(\"Animation|Children's|Comedy|Romance\"))"
      ],
      "execution_count": 9,
      "outputs": [
        {
          "output_type": "stream",
          "text": [
            "[1. 1. 0. 0. 0. 0. 0. 0. 0. 0. 0. 0. 0. 1. 0. 0. 0. 0.]\n",
            "[0. 0. 1. 1. 1. 0. 0. 0. 0. 0. 0. 0. 0. 0. 0. 0. 0. 0.]\n",
            "[0. 0. 0. 0. 0. 0. 0. 0. 0. 0. 0. 0. 0. 0. 0. 1. 0. 0.]\n",
            "[0. 0. 1. 1. 1. 0. 0. 0. 0. 0. 0. 0. 0. 1. 0. 0. 0. 0.]\n"
          ],
          "name": "stdout"
        }
      ]
    },
    {
      "cell_type": "code",
      "metadata": {
        "id": "_ehYNRbcrx3k",
        "colab_type": "code",
        "colab": {
          "base_uri": "https://localhost:8080/",
          "height": 71
        },
        "outputId": "6fa887e5-ed1b-432d-ee52-a2576b11181f"
      },
      "source": [
        "# Add Genre Vector to movies dataframe(위에서 한 작업을 movies데이터셋에 추가하는 작업)\n",
        "print('Creating Genre vector on movies df ====>')\n",
        "movie_data = movies[2]\n",
        "movie_col = []\n",
        "gen_index = 0\n",
        "for movie_gen in movie_data:\n",
        "    gen_vec = get_genre_vector(movie_gen) # 원핫인코딩 장르벡터 \n",
        "    movie_col.append(gen_vec) # 그걸 movie_col에 추가해서 'genre_vector'열 추가 \n",
        "    gen_index += 1\n",
        "    \n",
        "movies['genre_vector'] = movie_col\n",
        "movies['genre_vector'][0]"
      ],
      "execution_count": 10,
      "outputs": [
        {
          "output_type": "stream",
          "text": [
            "Creating Genre vector on movies df ====>\n"
          ],
          "name": "stdout"
        },
        {
          "output_type": "execute_result",
          "data": {
            "text/plain": [
              "array([0., 0., 1., 1., 1., 0., 0., 0., 0., 0., 0., 0., 0., 0., 0., 0., 0.,\n",
              "       0.])"
            ]
          },
          "metadata": {
            "tags": []
          },
          "execution_count": 10
        }
      ]
    },
    {
      "cell_type": "code",
      "metadata": {
        "id": "gNYyb9YErycU",
        "colab_type": "code",
        "colab": {
          "base_uri": "https://localhost:8080/",
          "height": 35
        },
        "outputId": "af99c285-ccb4-4631-9145-9dc15c8ed5ac"
      },
      "source": [
        "def addgenrevector(data):\n",
        "    genre_array = []\n",
        "    movie_id_list = data[1].tolist()  # 영화ID 리스트\n",
        "    for movie_id in movie_id_list:\n",
        "        genre_array.append(movies.loc[movies[0] == movie_id]['genre_vector'])  # movies데이터에서  movies영화ID와 train또는 test의 영화ID와 겹치는 부분의 장르벡터만 추출\n",
        "    data['genre_vector'] = genre_array\n",
        "    return data\n",
        "        \n",
        "print('Adding Genre Vector to training and testing datasets =====>')\n",
        "training_set_gen_df = addgenrevector(training_set_df)\n",
        "training_set_gen_ar = np.array(training_set_gen_df)\n",
        "test_set_gen_df = addgenrevector(test_set_df)\n",
        "test_set_gen_ar = np.array(test_set_gen_df)"
      ],
      "execution_count": 11,
      "outputs": [
        {
          "output_type": "stream",
          "text": [
            "Adding Genre Vector to training and testing datasets =====>\n"
          ],
          "name": "stdout"
        }
      ]
    },
    {
      "cell_type": "code",
      "metadata": {
        "id": "ps6BMJzZu3e0",
        "colab_type": "code",
        "colab": {
          "base_uri": "https://localhost:8080/",
          "height": 233
        },
        "outputId": "985390c9-692a-460a-caaf-4ab78d74d26b"
      },
      "source": [
        "training_set_gen_df.genre_vector   # movie_id와 장르벡터의 값을 가지고 있음. (object)"
      ],
      "execution_count": 27,
      "outputs": [
        {
          "output_type": "execute_result",
          "data": {
            "text/plain": [
              "0        0    [0.0, 0.0, 1.0, 1.0, 1.0, 0.0, 0.0, 0.0, ...\n",
              "1        1    [0.0, 1.0, 0.0, 1.0, 0.0, 0.0, 0.0, 0.0, ...\n",
              "2        2    [0.0, 0.0, 0.0, 0.0, 1.0, 0.0, 0.0, 0.0, ...\n",
              "3        3    [0.0, 0.0, 0.0, 0.0, 1.0, 0.0, 0.0, 1.0, ...\n",
              "4        4    [0.0, 0.0, 0.0, 0.0, 1.0, 0.0, 0.0, 0.0, ...\n",
              "                               ...                        \n",
              "79995    1053    [0.0, 0.0, 0.0, 0.0, 1.0, 0.0, 0.0, 0....\n",
              "79996        Series([], Name: genre_vector, dtype: object)\n",
              "79997    1171    [0.0, 0.0, 0.0, 0.0, 1.0, 0.0, 0.0, 0....\n",
              "79998    1210    [0.0, 0.0, 0.0, 0.0, 0.0, 0.0, 0.0, 1....\n",
              "79999    1310    [0.0, 0.0, 0.0, 0.0, 1.0, 0.0, 0.0, 0....\n",
              "Name: genre_vector, Length: 80000, dtype: object"
            ]
          },
          "metadata": {
            "tags": []
          },
          "execution_count": 27
        }
      ]
    },
    {
      "cell_type": "code",
      "metadata": {
        "id": "EK0oD0P41LsM",
        "colab_type": "code",
        "colab": {
          "base_uri": "https://localhost:8080/",
          "height": 35
        },
        "outputId": "bd52565f-ffe8-41b1-c885-c68a18455219"
      },
      "source": [
        "user_genre_sum = np.zeros(len(genre_values))\n",
        "user_genre_sum.shape"
      ],
      "execution_count": 12,
      "outputs": [
        {
          "output_type": "execute_result",
          "data": {
            "text/plain": [
              "(18,)"
            ]
          },
          "metadata": {
            "tags": []
          },
          "execution_count": 12
        }
      ]
    },
    {
      "cell_type": "code",
      "metadata": {
        "id": "TZlJN1alryg2",
        "colab_type": "code",
        "colab": {
          "base_uri": "https://localhost:8080/",
          "height": 71
        },
        "outputId": "c6fd298b-6d52-4c28-9700-c7fbbc227fe7"
      },
      "source": [
        "def createmultidimensionalmatrix(data):\n",
        "    print(data.shape)\n",
        "    gen_data = []\n",
        "    \n",
        "    for id_users in range(1, nb_users + 1):\n",
        "        id_movies = data[1][data[0] == id_users] #nb_users(943)명과 train및test의 userID와 매칭되는 train및test의 영화 ID values\n",
        "        id_ratings = data[2][data[0] == id_users] #nb_users(943)명과 train및test의 userID와 매칭되는 train및test의 rating values\n",
        "        user_genre_list = data['genre_vector'][data[0] == id_users][data[2] >= 3] #nb_users(943)명과 train및test의 userID와 매칭되고, rating이 3이상인 train및test의 장르벡터 values\n",
        "        female_user = float(users['female_user'][users[0] == id_users]) #nb_users(943)명과 train및test의 userID와 매칭되는 train및test의 여성유저 values\n",
        "        male_user = float(users['male_user'][users[0] == id_users]) #nb_users(943)명과 train및test의 userID와 매칭되는 train및test의 남성유저 values\n",
        "        user_age = float(users[2][users[0] == id_users]) #nb_users(943)명과 train및test의 userID와 매칭되는 train및test의 나이 values\n",
        "        reg_months = float(users[3][users[0] == id_users]) # nb_users(943)명과 train및test의 userID와 매칭되는 train및test의 직업 values\n",
        "        user_genre_sum = np.zeros(len(genre_values)) #unique한 장르list의 길이를 갖는 zero행렬(길이=18)\n",
        "        \n",
        "        for usr_gen_vec in user_genre_list: # 3이상의 장르벡터의 값 \n",
        "            if len(usr_gen_vec): # 길이를 지니고 있으면 T /   or F \n",
        "                user_genre_sum = user_genre_sum + np.array(usr_gen_vec) # 18개의 zero장르행렬에 평가3이상의 장르벡터를 더함. \n",
        "                ##여기까지 예를 들면 user1의 3이상의 장르벡터만을 가지는 새로운 장르벡터행렬이 생성. len(user_genre_list)*18 차원을 갖는 행렬\n",
        "\n",
        "        data_reshaped = np.zeros(nb_movies) # 1682길이 zero행렬 (1682,)\n",
        "        # 유저-영화 matrix생성\n",
        "        data_reshaped[id_movies - 1] = id_ratings\n",
        "        # 좋은평가만 가진 유저장르의 열 추가\n",
        "        if user_genre_sum[0].shape: # (18,)\n",
        "            data_reshaped = np.append(data_reshaped, user_genre_sum[0])\n",
        "        else:\n",
        "            data_reshaped = np.append(data_reshaped, user_genre_sum)\n",
        "        # data_reshaped.shape  ->  (1700, )\n",
        "        data_reshaped = np.append(data_reshaped, [female_user])\n",
        "        data_reshaped = np.append(data_reshaped, [male_user])\n",
        "        data_reshaped = np.append(data_reshaped, [user_age])\n",
        "        data_reshaped = np.append(data_reshaped, [reg_months])\n",
        "        gen_data.append(list(data_reshaped))\n",
        "    return gen_data\n",
        "        \n",
        "        \n",
        "print('Creating 2D matrix ======>')    \n",
        "training_gen_data = createmultidimensionalmatrix(training_set_gen_df)\n",
        "test_gen_data = createmultidimensionalmatrix(test_set_gen_df)"
      ],
      "execution_count": 13,
      "outputs": [
        {
          "output_type": "stream",
          "text": [
            "Creating 2D matrix ======>\n",
            "(80000, 5)\n",
            "(20000, 5)\n"
          ],
          "name": "stdout"
        }
      ]
    },
    {
      "cell_type": "code",
      "metadata": {
        "id": "y5Of7EtirymM",
        "colab_type": "code",
        "colab": {
          "base_uri": "https://localhost:8080/",
          "height": 35
        },
        "outputId": "e96c4c7f-fd0e-4c54-8d4c-d8f2811ed2fc"
      },
      "source": [
        "# Converting the data into Torch tensors\n",
        "print('Creating torch tensors ======>')\n",
        "training_set_1 = torch.FloatTensor(training_gen_data)\n",
        "test_set_1 = torch.FloatTensor(test_gen_data)"
      ],
      "execution_count": 14,
      "outputs": [
        {
          "output_type": "stream",
          "text": [
            "Creating torch tensors ======>\n"
          ],
          "name": "stdout"
        }
      ]
    },
    {
      "cell_type": "code",
      "metadata": {
        "id": "ALSr0rCs9UbU",
        "colab_type": "code",
        "colab": {
          "base_uri": "https://localhost:8080/",
          "height": 143
        },
        "outputId": "35d2cde9-f80b-45b3-c07b-53aa4f61e351"
      },
      "source": [
        "training_set_1"
      ],
      "execution_count": 52,
      "outputs": [
        {
          "output_type": "execute_result",
          "data": {
            "text/plain": [
              "tensor([[ 5.,  3.,  4.,  ...,  0.,  1., 10.],\n",
              "        [ 4.,  0.,  0.,  ...,  1., 56., 16.],\n",
              "        [ 0.,  0.,  0.,  ...,  1., 25., 15.],\n",
              "        ...,\n",
              "        [ 5.,  0.,  0.,  ...,  1., 18., 20.],\n",
              "        [ 0.,  0.,  0.,  ...,  0., 50.,  6.],\n",
              "        [ 0.,  5.,  0.,  ...,  0., 45., 12.]])"
            ]
          },
          "metadata": {
            "tags": []
          },
          "execution_count": 52
        }
      ]
    },
    {
      "cell_type": "code",
      "metadata": {
        "id": "aKqrAun98yow",
        "colab_type": "code",
        "colab": {
          "base_uri": "https://localhost:8080/",
          "height": 53
        },
        "outputId": "e4f34507-001a-43d2-8675-db78fbab45b4"
      },
      "source": [
        "print(training_set_1.shape)\n",
        "print(test_set_1.shape)"
      ],
      "execution_count": 15,
      "outputs": [
        {
          "output_type": "stream",
          "text": [
            "torch.Size([943, 1704])\n",
            "torch.Size([943, 1704])\n"
          ],
          "name": "stdout"
        }
      ]
    },
    {
      "cell_type": "code",
      "metadata": {
        "id": "m4baJQP2r4Xu",
        "colab_type": "code",
        "colab": {}
      },
      "source": [
        "class SAE(nn.Module):\n",
        "    def __init__(self, ):\n",
        "        super(SAE, self).__init__()\n",
        "        self.fc1 = nn.Linear(1704, 20) # 최종 user-matrix의 컬럼수\n",
        "        self.fc2 = nn.Linear(20, 10)\n",
        "        self.fc3 = nn.Linear(10, 20)\n",
        "        self.fc4 = nn.Linear(20, 1704)\n",
        "        self.activation = nn.Sigmoid()\n",
        "        \n",
        "    def forward(self, x):\n",
        "        x = self.activation(self.fc1(x))\n",
        "        x = self.activation(self.fc2(x))\n",
        "        x = self.activation(self.fc3(x))\n",
        "        x = self.fc4(x)\n",
        "        return x\n",
        "sae = SAE()\n",
        "criterion = nn.MSELoss()\n",
        "optimizer = optim.RMSprop(sae.parameters(), lr=0.01, weight_decay=0.5)"
      ],
      "execution_count": 21,
      "outputs": []
    },
    {
      "cell_type": "code",
      "metadata": {
        "id": "JM0PGgBSr4eP",
        "colab_type": "code",
        "colab": {
          "base_uri": "https://localhost:8080/",
          "height": 1000
        },
        "outputId": "b60524d2-f0f0-4f7d-9566-0fb1d444a5f4"
      },
      "source": [
        "nb_epoch = 200\n",
        "for epoch in range(1, nb_epoch+1):\n",
        "    train_loss = 0\n",
        "    s = 0.\n",
        "    for id_user in range(nb_users):\n",
        "        input = Variable(training_set_1[id_user]).unsqueeze(0)\n",
        "        target = input.clone()\n",
        "        #Select only rating related columns to compute loss\n",
        "        target_ratings = target[:, :nb_movies]\n",
        "        if torch.sum(target.data > 0) > 0:\n",
        "            output = sae(input)\n",
        "            output_ratings = output[:, :nb_movies]\n",
        "            target.require_grad = False\n",
        "            output[target == 0] = 0\n",
        "            loss = criterion(output_ratings, target_ratings)\n",
        "            mean_corrector = nb_movies/float(torch.sum(target.data > 0) + 1e-10)\n",
        "            loss.backward()\n",
        "            train_loss += np.sqrt(loss.item()*mean_corrector)\n",
        "            s += 1.\n",
        "            optimizer.step()\n",
        "    print('epoch: '+str(epoch)+' loss: '+str(train_loss/s))\n",
        "    \n",
        "    \n",
        "# Testing the SAE\n",
        "test_loss = 0\n",
        "s = 0.\n",
        "for id_user in range(nb_users):\n",
        "    input = Variable(training_set_1[id_user]).unsqueeze(0)\n",
        "    target = Variable(test_set_1[id_user]).unsqueeze(0)\n",
        "    target_ratings = target[:, :nb_movies]\n",
        "    if torch.sum(target.data > 0) > 0:\n",
        "        output = sae(input)\n",
        "        output_ratings = output[:, :nb_movies]\n",
        "        target.require_grad = False\n",
        "        output[target == 0] = 0\n",
        "        loss = criterion(output_ratings, target_ratings)\n",
        "        mean_corrector = nb_movies/float(torch.sum(target.data > 0) + 1e-10)\n",
        "        test_loss += np.sqrt(loss.item()*mean_corrector)\n",
        "        s += 1.\n",
        "print('test loss: '+str(test_loss/s))"
      ],
      "execution_count": 25,
      "outputs": [
        {
          "output_type": "stream",
          "text": [
            "epoch: 1 loss: 0.8679231755874817\n",
            "epoch: 2 loss: 0.8671374799601206\n",
            "epoch: 3 loss: 0.8676912617591324\n",
            "epoch: 4 loss: 0.8678975911366743\n",
            "epoch: 5 loss: 0.8677578057097864\n",
            "epoch: 6 loss: 0.8676387097714362\n",
            "epoch: 7 loss: 0.8671501817503691\n",
            "epoch: 8 loss: 0.8679018927986164\n",
            "epoch: 9 loss: 0.867692918705164\n",
            "epoch: 10 loss: 0.8676996238935173\n",
            "epoch: 11 loss: 0.8678647696765625\n",
            "epoch: 12 loss: 0.867490860444076\n",
            "epoch: 13 loss: 0.8674225025648874\n",
            "epoch: 14 loss: 0.8673119943283719\n",
            "epoch: 15 loss: 0.8675490790586149\n",
            "epoch: 16 loss: 0.8671608701378248\n",
            "epoch: 17 loss: 0.8670920138462047\n",
            "epoch: 18 loss: 0.8669289734463664\n",
            "epoch: 19 loss: 0.8672916557497173\n",
            "epoch: 20 loss: 0.8670303226966065\n",
            "epoch: 21 loss: 0.8670548801691307\n",
            "epoch: 22 loss: 0.8672266981833835\n",
            "epoch: 23 loss: 0.867787752324975\n",
            "epoch: 24 loss: 0.86699003352245\n",
            "epoch: 25 loss: 0.8673717379995435\n",
            "epoch: 26 loss: 0.8675253850892035\n",
            "epoch: 27 loss: 0.8668086683937645\n",
            "epoch: 28 loss: 0.86726775721136\n",
            "epoch: 29 loss: 0.8672401910017022\n",
            "epoch: 30 loss: 0.8672218799401339\n",
            "epoch: 31 loss: 0.8672232549984749\n",
            "epoch: 32 loss: 0.8671970462891682\n",
            "epoch: 33 loss: 0.867109679965997\n",
            "epoch: 34 loss: 0.8669106243116127\n",
            "epoch: 35 loss: 0.8669841723697368\n",
            "epoch: 36 loss: 0.8668138181414321\n",
            "epoch: 37 loss: 0.8674917460817989\n",
            "epoch: 38 loss: 0.8663945460254419\n",
            "epoch: 39 loss: 0.8662578211534141\n",
            "epoch: 40 loss: 0.8658283854932161\n",
            "epoch: 41 loss: 0.8658846510676034\n",
            "epoch: 42 loss: 0.8669932162188493\n",
            "epoch: 43 loss: 0.8665460333199337\n",
            "epoch: 44 loss: 0.8666178137507975\n",
            "epoch: 45 loss: 0.8664079196068866\n",
            "epoch: 46 loss: 0.8662547137618011\n",
            "epoch: 47 loss: 0.865294804522656\n",
            "epoch: 48 loss: 0.8651706150482155\n",
            "epoch: 49 loss: 0.8648757642080336\n",
            "epoch: 50 loss: 0.8656260463203066\n",
            "epoch: 51 loss: 0.8654618334386178\n",
            "epoch: 52 loss: 0.8666364130593447\n",
            "epoch: 53 loss: 0.8661328180981394\n",
            "epoch: 54 loss: 0.8662397167608618\n",
            "epoch: 55 loss: 0.8662355438148973\n",
            "epoch: 56 loss: 0.8664021188759636\n",
            "epoch: 57 loss: 0.8666139349616816\n",
            "epoch: 58 loss: 0.8663439948461282\n",
            "epoch: 59 loss: 0.8660460795867531\n",
            "epoch: 60 loss: 0.8660967766575082\n",
            "epoch: 61 loss: 0.8657976184718394\n",
            "epoch: 62 loss: 0.8652263816459684\n",
            "epoch: 63 loss: 0.865977983846729\n",
            "epoch: 64 loss: 0.8657296734187991\n",
            "epoch: 65 loss: 0.8656562451082866\n",
            "epoch: 66 loss: 0.8658184661883578\n",
            "epoch: 67 loss: 0.8653338068895943\n",
            "epoch: 68 loss: 0.8657057767605679\n",
            "epoch: 69 loss: 0.8666385283726216\n",
            "epoch: 70 loss: 0.8648486254926576\n",
            "epoch: 71 loss: 0.8646956194039934\n",
            "epoch: 72 loss: 0.8643263679324507\n",
            "epoch: 73 loss: 0.8665825729578028\n",
            "epoch: 74 loss: 0.864433547858893\n",
            "epoch: 75 loss: 0.8655848954694743\n",
            "epoch: 76 loss: 0.8636854473109905\n",
            "epoch: 77 loss: 0.8635116908297267\n",
            "epoch: 78 loss: 0.8629508508293452\n",
            "epoch: 79 loss: 0.8626858168277779\n",
            "epoch: 80 loss: 0.861910767838269\n",
            "epoch: 81 loss: 0.8625220141857078\n",
            "epoch: 82 loss: 0.863314188403871\n",
            "epoch: 83 loss: 0.8675675476925118\n",
            "epoch: 84 loss: 0.8645911936773516\n",
            "epoch: 85 loss: 0.8648010427395001\n",
            "epoch: 86 loss: 0.8653621575258803\n",
            "epoch: 87 loss: 0.8663608243875915\n",
            "epoch: 88 loss: 0.8617958571953717\n",
            "epoch: 89 loss: 0.861601822966322\n",
            "epoch: 90 loss: 0.8612798855343023\n",
            "epoch: 91 loss: 0.8632103836712512\n",
            "epoch: 92 loss: 0.8606500999715897\n",
            "epoch: 93 loss: 0.8605009975862871\n",
            "epoch: 94 loss: 0.8600952775558451\n",
            "epoch: 95 loss: 0.8600206428564089\n",
            "epoch: 96 loss: 0.8600032001109672\n",
            "epoch: 97 loss: 0.8599504083298161\n",
            "epoch: 98 loss: 0.8658819248044075\n",
            "epoch: 99 loss: 0.864560130760512\n",
            "epoch: 100 loss: 0.8637309985316937\n",
            "epoch: 101 loss: 0.8629117663637559\n",
            "epoch: 102 loss: 0.8636698868780126\n",
            "epoch: 103 loss: 0.86379270723532\n",
            "epoch: 104 loss: 0.8634813113802591\n",
            "epoch: 105 loss: 0.8633025311264256\n",
            "epoch: 106 loss: 0.8628924857371848\n",
            "epoch: 107 loss: 0.8625273384705502\n",
            "epoch: 108 loss: 0.862327064503692\n",
            "epoch: 109 loss: 0.8617868817300322\n",
            "epoch: 110 loss: 0.8618653201416565\n",
            "epoch: 111 loss: 0.8615408874941389\n",
            "epoch: 112 loss: 0.8617553011406047\n",
            "epoch: 113 loss: 0.8602702640192069\n",
            "epoch: 114 loss: 0.860329720902299\n",
            "epoch: 115 loss: 0.8601325919010465\n",
            "epoch: 116 loss: 0.8597631389604576\n",
            "epoch: 117 loss: 0.8623684279782677\n",
            "epoch: 118 loss: 0.8617256194349973\n",
            "epoch: 119 loss: 0.8620010698409364\n",
            "epoch: 120 loss: 0.8618188033118415\n",
            "epoch: 121 loss: 0.8618696380308087\n",
            "epoch: 122 loss: 0.861802583512448\n",
            "epoch: 123 loss: 0.8631861788172686\n",
            "epoch: 124 loss: 0.8614799330268614\n",
            "epoch: 125 loss: 0.8614004064475126\n",
            "epoch: 126 loss: 0.8613956044155316\n",
            "epoch: 127 loss: 0.8613410577761176\n",
            "epoch: 128 loss: 0.8614331911535539\n",
            "epoch: 129 loss: 0.8608539977904468\n",
            "epoch: 130 loss: 0.8606291645986771\n",
            "epoch: 131 loss: 0.8606362396387048\n",
            "epoch: 132 loss: 0.8602668041732991\n",
            "epoch: 133 loss: 0.8602794022354434\n",
            "epoch: 134 loss: 0.8597853208694143\n",
            "epoch: 135 loss: 0.8599767506418923\n",
            "epoch: 136 loss: 0.8594453189332045\n",
            "epoch: 137 loss: 0.8595172708413623\n",
            "epoch: 138 loss: 0.8588540948114558\n",
            "epoch: 139 loss: 0.858745437648312\n",
            "epoch: 140 loss: 0.8585718600491182\n",
            "epoch: 141 loss: 0.8585072724686356\n",
            "epoch: 142 loss: 0.8590910327639439\n",
            "epoch: 143 loss: 0.8578243175862426\n",
            "epoch: 144 loss: 0.8591199937289045\n",
            "epoch: 145 loss: 0.8568599463365036\n",
            "epoch: 146 loss: 0.8563934976413794\n",
            "epoch: 147 loss: 0.8562170778203021\n",
            "epoch: 148 loss: 0.8554066995260822\n",
            "epoch: 149 loss: 0.8558065542649542\n",
            "epoch: 150 loss: 0.8554744997160757\n",
            "epoch: 151 loss: 0.855259921574178\n",
            "epoch: 152 loss: 0.8565306832171008\n",
            "epoch: 153 loss: 0.8551925332107602\n",
            "epoch: 154 loss: 0.8554480531984149\n",
            "epoch: 155 loss: 0.8553325682355789\n",
            "epoch: 156 loss: 0.8550363414101129\n",
            "epoch: 157 loss: 0.8540941812604135\n",
            "epoch: 158 loss: 0.854837172187561\n",
            "epoch: 159 loss: 0.8546235987723325\n",
            "epoch: 160 loss: 0.8549276300748841\n",
            "epoch: 161 loss: 0.8555648398617292\n",
            "epoch: 162 loss: 0.85495512524585\n",
            "epoch: 163 loss: 0.8543803901523634\n",
            "epoch: 164 loss: 0.853495932096886\n",
            "epoch: 165 loss: 0.8533640042852305\n",
            "epoch: 166 loss: 0.8542165371901804\n",
            "epoch: 167 loss: 0.8542112622075259\n",
            "epoch: 168 loss: 0.8540208732197867\n",
            "epoch: 169 loss: 0.8540599293971903\n",
            "epoch: 170 loss: 0.8537714797138444\n",
            "epoch: 171 loss: 0.8538322121977608\n",
            "epoch: 172 loss: 0.8539574078049321\n",
            "epoch: 173 loss: 0.8532757006022932\n",
            "epoch: 174 loss: 0.8538087721098034\n",
            "epoch: 175 loss: 0.8538404918515543\n",
            "epoch: 176 loss: 0.8536066852862397\n",
            "epoch: 177 loss: 0.8536899358518585\n",
            "epoch: 178 loss: 0.8523241042504806\n",
            "epoch: 179 loss: 0.8524061673354043\n",
            "epoch: 180 loss: 0.8527104239987044\n",
            "epoch: 181 loss: 0.8525428653664192\n",
            "epoch: 182 loss: 0.8516466887334145\n",
            "epoch: 183 loss: 0.8514900334875998\n",
            "epoch: 184 loss: 0.8506201256761967\n",
            "epoch: 185 loss: 0.8521332062099224\n",
            "epoch: 186 loss: 0.852397914585722\n",
            "epoch: 187 loss: 0.851797967686898\n",
            "epoch: 188 loss: 0.8529729668249548\n",
            "epoch: 189 loss: 0.8526105176989314\n",
            "epoch: 190 loss: 0.8523844440139458\n",
            "epoch: 191 loss: 0.8524552398382372\n",
            "epoch: 192 loss: 0.8522228792799306\n",
            "epoch: 193 loss: 0.852680173505185\n",
            "epoch: 194 loss: 0.8523811635424059\n",
            "epoch: 195 loss: 0.852335205671029\n",
            "epoch: 196 loss: 0.8524032329358303\n",
            "epoch: 197 loss: 0.8520470329708864\n",
            "epoch: 198 loss: 0.8519493071599704\n",
            "epoch: 199 loss: 0.8522875721786253\n",
            "epoch: 200 loss: 0.8520814171806647\n",
            "test loss: 0.389824639807887\n"
          ],
          "name": "stdout"
        }
      ]
    },
    {
      "cell_type": "code",
      "metadata": {
        "id": "OFcSSkA4USp4",
        "colab_type": "code",
        "colab": {
          "base_uri": "https://localhost:8080/",
          "height": 251
        },
        "outputId": "7a4b7ec0-7c98-4067-ff09-1cabaa242792"
      },
      "source": [
        "sae(test_set_1)"
      ],
      "execution_count": 30,
      "outputs": [
        {
          "output_type": "execute_result",
          "data": {
            "text/plain": [
              "tensor([[ 3.9070e+00,  3.3209e+00,  3.1220e+00,  ...,  2.7881e-03,\n",
              "          1.1244e-02, -1.4509e-02],\n",
              "        [ 3.8663e+00,  3.2853e+00,  3.0878e+00,  ...,  2.7686e-03,\n",
              "          1.1180e-02, -1.4319e-02],\n",
              "        [ 3.8954e+00,  3.3108e+00,  3.1122e+00,  ...,  2.7825e-03,\n",
              "          1.1226e-02, -1.4455e-02],\n",
              "        ...,\n",
              "        [ 3.5634e+00,  3.0201e+00,  2.8336e+00,  ...,  2.6470e-03,\n",
              "          1.0731e-02, -1.2853e-02],\n",
              "        [ 3.4266e+00,  2.9003e+00,  2.7190e+00,  ...,  2.6028e-03,\n",
              "          1.0543e-02, -1.2168e-02],\n",
              "        [ 3.4300e+00,  2.9033e+00,  2.7219e+00,  ...,  2.6038e-03,\n",
              "          1.0548e-02, -1.2186e-02]], grad_fn=<AddmmBackward>)"
            ]
          },
          "metadata": {
            "tags": []
          },
          "execution_count": 30
        }
      ]
    },
    {
      "cell_type": "code",
      "metadata": {
        "id": "ecFm4eQPVeH2",
        "colab_type": "code",
        "colab": {}
      },
      "source": [
        ""
      ],
      "execution_count": null,
      "outputs": []
    }
  ]
}